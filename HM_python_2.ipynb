{
 "cells": [
  {
   "cell_type": "code",
   "execution_count": 19,
   "id": "40186a2c",
   "metadata": {},
   "outputs": [
    {
     "name": "stdout",
     "output_type": "stream",
     "text": [
      "21\n"
     ]
    }
   ],
   "source": [
    "class A:\n",
    "    def __init__(self, a=0):\n",
    "        self.a = a\n",
    "    \n",
    "    def __add__(self, other):\n",
    "        s = self.a + other.a\n",
    "        return s\n",
    "    \n",
    "    \n",
    "o1 = A(6)\n",
    "o2 = A(15)\n",
    "\n",
    "print(o1 + o2)"
   ]
  },
  {
   "cell_type": "code",
   "execution_count": 31,
   "id": "1ffc8332",
   "metadata": {},
   "outputs": [
    {
     "name": "stdout",
     "output_type": "stream",
     "text": [
      "Check palindrom -  True\n",
      "True\n"
     ]
    }
   ],
   "source": [
    "class B:\n",
    "    def __init__(self, s):\n",
    "        self.s = s\n",
    "    \n",
    "    def is_repeatance(self, s_2):\n",
    "        n = len(self.s) // (len(s_2) or 1)\n",
    "        return self.s == n * s_2\n",
    "    \n",
    "    def is_palindrom(self):\n",
    "        if s == '':\n",
    "            return True\n",
    "        return s.lower() == s[::-1].lower()\n",
    "\n",
    "s = 'level'\n",
    "o = B(s)\n",
    "print('Check palindrom - ', o.is_palindrom())\n",
    "\n",
    "s2 = 'run'\n",
    "o2 = B('runrunrun')\n",
    "print(o2.is_repeatance(s2))\n"
   ]
  },
  {
   "cell_type": "code",
   "execution_count": null,
   "id": "8c34d1f4",
   "metadata": {},
   "outputs": [],
   "source": []
  }
 ],
 "metadata": {
  "kernelspec": {
   "display_name": "Python 3",
   "language": "python",
   "name": "python3"
  },
  "language_info": {
   "codemirror_mode": {
    "name": "ipython",
    "version": 3
   },
   "file_extension": ".py",
   "mimetype": "text/x-python",
   "name": "python",
   "nbconvert_exporter": "python",
   "pygments_lexer": "ipython3",
   "version": "3.8.8"
  }
 },
 "nbformat": 4,
 "nbformat_minor": 5
}
