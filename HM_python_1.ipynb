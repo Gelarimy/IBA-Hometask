{
 "cells": [
  {
   "cell_type": "code",
   "execution_count": 60,
   "id": "2ca2e287",
   "metadata": {},
   "outputs": [
    {
     "name": "stdout",
     "output_type": "stream",
     "text": [
      "I can see the bottom in my bowl!\n",
      "                ________________________________\n",
      "              < I can see the bottom in my bowl! >\n",
      "                --------------------------------\n",
      "               /\n",
      "   /\\_/\\      /\n",
      " ( o . o )\n",
      "  >  ^  <\n"
     ]
    }
   ],
   "source": [
    "s = input()\n",
    "l = len(s)\n",
    "crossing = \" \"* 14\n",
    "\n",
    "print( crossing + '  '+'_'*l +'\\n' + crossing + '< {} >'.format(s) + '\\n' + crossing + '  '+'-'*l)\n",
    "print('               /\\n','  /\\_/\\      /\\n', '( o . o )\\n', ' >  ^  <')"
   ]
  },
  {
   "cell_type": "code",
   "execution_count": 61,
   "id": "db925f67",
   "metadata": {},
   "outputs": [
    {
     "name": "stdout",
     "output_type": "stream",
     "text": [
      "bacon\n",
      "duck\n",
      "salmon\n",
      "beans\n",
      "\n",
      "bacon\n",
      "duck\n",
      "salmon\n",
      "beans\n"
     ]
    }
   ],
   "source": [
    "list_of_products = []\n",
    "\n",
    "\n",
    "while True:\n",
    "    product = input()\n",
    "    \n",
    "    if product == '':\n",
    "        break\n",
    "\n",
    "    else:\n",
    "        list_of_products.append(product)\n",
    "        \n",
    "for product in list_of_products:\n",
    "    print(product)\n",
    "    "
   ]
  },
  {
   "cell_type": "code",
   "execution_count": 64,
   "id": "9e4899ce",
   "metadata": {},
   "outputs": [
    {
     "name": "stdout",
     "output_type": "stream",
     "text": [
      "bacon\n",
      "duck\n",
      "salmon\n",
      "beans\n",
      "salmon\n",
      "duck\n",
      "salmon\n",
      "\n",
      "the product most frequently found in the resulting list --  salmon\n",
      "List of products with the total quantity of each item without most common product:\n",
      "\n",
      "bacon 1\n",
      "duck 2\n",
      "beans 1\n"
     ]
    }
   ],
   "source": [
    "list_of_products = []\n",
    "\n",
    "\n",
    "while True:\n",
    "    product = input()\n",
    "    \n",
    "    if product == '':\n",
    "        break\n",
    "\n",
    "    else:\n",
    "        list_of_products.append(product)\n",
    "\n",
    "product_count = []\n",
    "        \n",
    "list_of_products_set = set(list_of_products)\n",
    "list_of_products_list = list(list_of_products_set)\n",
    "\n",
    "max_count = 0\n",
    "procuct = ''\n",
    "\n",
    "for pr in list_of_products:\n",
    "    if list_of_products.count(pr) > max_count:\n",
    "        max_count = list_of_products.count(pr)\n",
    "        procuct = pr\n",
    "        \n",
    "print(\"the product most frequently found in the resulting list -- \", procuct)\n",
    "        \n",
    "list_of_products_list.remove(procuct)\n",
    "    \n",
    "print('List of products with the total quantity of each item without most common product:\\n')\n",
    "\n",
    "for i in list_of_products_list:\n",
    "    print(i, list_of_products.count(i))\n"
   ]
  },
  {
   "cell_type": "code",
   "execution_count": null,
   "id": "c01dbffb",
   "metadata": {},
   "outputs": [],
   "source": []
  },
  {
   "cell_type": "code",
   "execution_count": null,
   "id": "1302223b",
   "metadata": {},
   "outputs": [],
   "source": []
  },
  {
   "cell_type": "code",
   "execution_count": null,
   "id": "850bda98",
   "metadata": {},
   "outputs": [],
   "source": []
  }
 ],
 "metadata": {
  "kernelspec": {
   "display_name": "Python 3",
   "language": "python",
   "name": "python3"
  },
  "language_info": {
   "codemirror_mode": {
    "name": "ipython",
    "version": 3
   },
   "file_extension": ".py",
   "mimetype": "text/x-python",
   "name": "python",
   "nbconvert_exporter": "python",
   "pygments_lexer": "ipython3",
   "version": "3.8.8"
  }
 },
 "nbformat": 4,
 "nbformat_minor": 5
}
